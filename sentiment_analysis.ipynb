{
 "cells": [
  {
   "cell_type": "markdown",
   "metadata": {},
   "source": [
    "# TWITTER SENTIMENT ANALYSIS  USING NLP\n",
    "Twitter is one of the most popular microblogging sites. Twitter users create “tweets” (status messages) about different topics based on their opinion. The purpose of this project is to automatically analyse the sentiment (positive or negative) of tweet. This is very useful because it allows feedback to aggregate without manual intervention.  \n",
    "• Organizations can also use this to gather critical feedback about problems in newly released products.\n",
    "\n",
    "• Marketers can use this to research public opinion of their company and products, or to analyse customer satisfaction. \n",
    "\n",
    "• Consumers can use sentiment analysis to research products or services before making a purchase. "
   ]
  },
  {
   "cell_type": "markdown",
   "metadata": {},
   "source": [
    "###  CONNECTING TO TWITTER VIA TWEEPY OAUTH\n",
    "\n",
    "Connecting to the twitter API using tweepy (twitter for python). Tweepy supports accessing Twitter via method, OAuth"
   ]
  },
  {
   "cell_type": "code",
   "execution_count": 1,
   "metadata": {},
   "outputs": [
    {
     "name": "stdout",
     "output_type": "stream",
     "text": [
      "<tweepy.api.API object at 0x000001FE74F98080>\n"
     ]
    }
   ],
   "source": [
    "import tweepy,twitter_text\n",
    "auth = tweepy.OAuthHandler('k6BFDMNQ7Ze2zmfq7RXGlrW0T','2Sqax0hGpfXUVOwzUFGccq4x3evJ6hzWoUXeWxNFtYzxJA1itm')\n",
    "auth.set_access_token('821745978122338310-xzXQc56UyBZm6G8nsL56MFqZazWFCUL','hAhPfPZbiCer6AnyQ1Fl43XepTLSneCPUFbJV4kOMlowq')\n",
    "api = tweepy.API(auth)\n",
    "print(api)\n"
   ]
  },
  {
   "cell_type": "markdown",
   "metadata": {},
   "source": [
    "### SEARCHING FOR AN USER INPUT QUERY "
   ]
  },
  {
   "cell_type": "code",
   "execution_count": 2,
   "metadata": {},
   "outputs": [
    {
     "name": "stdout",
     "output_type": "stream",
     "text": [
      "Enter your Query to be analysed:trump\n",
      "Enter number of queries to be analysed:300\n"
     ]
    }
   ],
   "source": [
    "query = input('Enter your Query to be analysed:')\n",
    "no_queries = int(input('Enter number of queries to be analysed:'))\n",
    "\n",
    "searched = tweepy.Cursor(api.search, q = query, lang='en').items(no_queries)"
   ]
  },
  {
   "cell_type": "markdown",
   "metadata": {},
   "source": [
    "### CLEANING TWEETS \n",
    "\n",
    "Twitter “tweets” contain  mainly three parts : \n",
    "\n",
    "➢ Screen name : User who tweets or retweets \n",
    "\n",
    "➢ Text : Main message conveyed by tweet \n",
    "\n",
    "➢ Hashtags : Categorial tags, used to highlight content in tweet\n",
    "\n",
    "Our analysis is basically on the text part of tweet, hashtags can also contribute to this analysis (without “#”) to some extent. Screen names are of no use because they are just user names and doesn’t depict any sentiments. So they just add on to computation and work. Here comes the need of Cleaning our tweets for better analysis. "
   ]
  },
  {
   "cell_type": "code",
   "execution_count": 4,
   "metadata": {},
   "outputs": [],
   "source": [
    "import preprocessor as p\n",
    "list1 = []\n",
    "for tweet in searched:\n",
    "    list1.append(p.clean(tweet.text))\n"
   ]
  },
  {
   "cell_type": "markdown",
   "metadata": {},
   "source": [
    "### CALCULATING POLARITY SCORES\n",
    "To calculate Polarity, Vader Algorithm is used. The Vader Algorithm outputs sentiment scores to 4 classes of sentiments:\n",
    "\n",
    "• neg   Negative \n",
    "\n",
    "• pos   Positive\n",
    "\n",
    "• neu   Neutral\n",
    "\n",
    "• Compound : Compound \n",
    "Using these sentiment scores we can easily calculate percentage classification of Sentiment on tweets fetched. \n",
    " "
   ]
  },
  {
   "cell_type": "code",
   "execution_count": 18,
   "metadata": {},
   "outputs": [
    {
     "name": "stdout",
     "output_type": "stream",
     "text": [
      "9.38 % positive\n",
      "10.15 % negative\n",
      "80.13 % neutral\n"
     ]
    }
   ],
   "source": [
    "def percent(part,whole):\n",
    "    return(100* float(part)/float(whole))\n",
    "\n",
    "\n",
    "positive = 0\n",
    "negative = 0\n",
    "neutral = 0\n",
    "\n",
    "from nltk.sentiment.vader import SentimentIntensityAnalyzer\n",
    "sid = SentimentIntensityAnalyzer()\n",
    "for i in list1:\n",
    "    ss = sid.polarity_scores(i)\n",
    "    #print(ss)\n",
    "    negative +=ss['neg']\n",
    "    neutral +=ss['neu']\n",
    "    positive +=ss['pos']\n",
    "    \n",
    "\n",
    "    \n",
    "    \n",
    "positive = round(percent(positive,no_queries),2)\n",
    "negative = round(percent(negative,no_queries),2)\n",
    "neutral = round(percent(neutral,no_queries),2)\n",
    "\n",
    "\n",
    "\n",
    "print(positive,'%'+' positive')\n",
    "print(negative,'%'+' negative')\n",
    "print(neutral,'%'+' neutral')"
   ]
  },
  {
   "cell_type": "markdown",
   "metadata": {},
   "source": [
    "###  Visual Interpretation of Analysis \n",
    "\n",
    "To visually interpret our sentiment analysis, we will further use Matplotlib library of Python for plotting a Pie Chart, that diagrammatically shows people opinion on the searched query. "
   ]
  },
  {
   "cell_type": "code",
   "execution_count": 7,
   "metadata": {},
   "outputs": [
    {
     "data": {
      "image/png": "[encoded data removed]",
      "text/plain": [
       "<Figure size 432x288 with 1 Axes>"
      ]
     },
     "metadata": {},
     "output_type": "display_data"
    },
    {
     "name": "stdout",
     "output_type": "stream",
     "text": [
      "None\n"
     ]
    }
   ],
   "source": [
    "from matplotlib import pyplot as plt\n",
    "\n",
    "labels = ['Positive ['+str(positive)+'%]','Neutral ['+str(neutral)+'%]','Negative ['+str(negative)+'%]']\n",
    "sizes = [positive,neutral,negative]\n",
    "colors = ['green','blue','red']\n",
    "patches,texts  =plt.pie(sizes,colors = colors,startangle=90)\n",
    "plt.legend(patches,labels,loc='best')\n",
    "plt.title('Analysis for '+query+' on '+str(no_queries)+' tweets')\n",
    "plt.axis('equal')\n",
    "plt.tight_layout()\n",
    "plt.show()"
   ]
  },
  {
   "cell_type": "markdown",
   "metadata": {},
   "source": [
    "### IMPORTING DATASET\n",
    "\n",
    "Dataset twitter_samples used here contain 3 files : \n",
    "\n",
    "1 negative_tweets.json (Contain sample negative tweets)\n",
    "\n",
    "2 positive_tweets,json  (Contain sample positive tweets) \n",
    "\n",
    "3 tweets.20150430-223406.json (Contain sample neutral tweets) \n",
    "\n",
    "\n"
   ]
  },
  {
   "cell_type": "code",
   "execution_count": 8,
   "metadata": {},
   "outputs": [],
   "source": [
    "from nltk.corpus import twitter_samples\n",
    "twitter_samples.fileids()\n",
    "\n",
    "negtweets = twitter_samples.strings('negative_tweets.json')\n",
    "postweets = twitter_samples.strings('positive_tweets.json')"
   ]
  },
  {
   "cell_type": "markdown",
   "metadata": {},
   "source": [
    "### TRAINING OUR CLASSFIER OBJECT WITH DATASET\n",
    "\n",
    "In order to classify tweets on the basis of sentiments, we need to train a classifier using Machine learning methods. Some of popular methods are Support Vector Machines (SVM), Naive Bayes Classifier etc. Naïve Bayes Classifier being the most convenient one, is used here to train  twitter_samples (nltk corpora) \n"
   ]
  },
  {
   "cell_type": "code",
   "execution_count": 10,
   "metadata": {},
   "outputs": [
    {
     "name": "stdout",
     "output_type": "stream",
     "text": [
      "Train on 5000 instances, test on 5000 instances\n"
     ]
    }
   ],
   "source": [
    "import nltk.classify.util\n",
    "from nltk.classify import NaiveBayesClassifier\n",
    "import preprocessor as p\n",
    "\n",
    "def word_feats(words):\n",
    "    return dict([(word,True) for word in words])\n",
    "\n",
    "negfeats = [(word_feats(nltk.word_tokenize(p.clean(i))),'neg') for i in negtweets]\n",
    "posfeats = [(word_feats(nltk.word_tokenize(p.clean(i))),'pos') for i in postweets]\n",
    "#print(negfeats)\n",
    "\n",
    "\n",
    "#neg_t = word_feats(negfeats,neg_words)\n",
    "#pos_t = word_feats(posfeats,pos_words)\n",
    "negcutoff = int(len(negfeats)*1/2)\n",
    "poscutoff = int(len(posfeats)*1/2)\n",
    "trainfeats = negfeats[:negcutoff]+posfeats[:poscutoff]\n",
    "testfeats = posfeats[negcutoff:]+posfeats[poscutoff:]\n",
    "\n",
    "print(\"Train on %d instances, test on %d instances\"%(len(trainfeats),len(testfeats)))\n",
    "classifier = NaiveBayesClassifier.train(trainfeats)"
   ]
  },
  {
   "cell_type": "markdown",
   "metadata": {},
   "source": [
    "### CALCULATING ACCURACY OF CLASSIFIER OBJECT"
   ]
  },
  {
   "cell_type": "code",
   "execution_count": 11,
   "metadata": {},
   "outputs": [
    {
     "name": "stdout",
     "output_type": "stream",
     "text": [
      "Accuracy: 0.7492\n"
     ]
    }
   ],
   "source": [
    "print(\"Accuracy:\",nltk.classify.util.accuracy(classifier,testfeats))"
   ]
  },
  {
   "cell_type": "markdown",
   "metadata": {},
   "source": [
    "Train on 6666 instances , test on 3334     instances\n",
    "Accuracy: 0.73125374925015\n",
    "\n",
    "Train on 7500 instances , test on 2500     instances\n",
    "Accuracy: 0.7208\n",
    "\n",
    "Here we saw that with increase in training exmaples accuracy decreases. It is clear case of High Bias. So to improve accuracywe can do following:\n",
    "\n",
    "1. Decrease Training Examples .\n",
    "2. Switching to some other ML model for classification\n"
   ]
  },
  {
   "cell_type": "markdown",
   "metadata": {},
   "source": [
    "### PREDICTING SENTIMENT FROM TWEETS FETCHED"
   ]
  },
  {
   "cell_type": "code",
   "execution_count": 12,
   "metadata": {},
   "outputs": [
    {
     "name": "stdout",
     "output_type": "stream",
     "text": [
      ": \"It seems Nellie Ohr was well aware the NSA can intercept and store every communication on the Internet. Did that affe…:pos\n",
      "notice how SO MANY around Trump *somehow* get…:neg\n",
      ": The Mar-a-Lago story reminds us that it's not just that Trump is selling the presidency, it's that he is selling so cheap.…:neg\n",
      ": I feel a little bad noting that Donald Trump personally interviewed Geoffrey Berman for his job every time I tweet about Berm…:neg\n",
      ": Mark Hamill suggests replacing Donald Trump's star on the Hollywood Walk of Fame with Carrie Fisher's. Retweet if you…:neg\n",
      ": These Republicans are connected to the insider trading scandal that just eloded on a Trump-loving congressman http…:neg\n",
      ": WHOA Rep Chris Collins charged w/MULTIPLE fraud, wire fraud &amp; false statements for alleged…:neg\n",
      ": Every Time I Die’s Keith Buckley To Trump Supporters: “My Band Doesn’t Need You. Nobody Does.” http…:neg\n",
      ": Has anyone seen that check from Mexico that was going to pay for the ridiculous wall? More importantly, where are all…:neg\n",
      "A line has been drawn in the sand. You either stand on the side of democracy, freedom, and patriotism, or…:neg\n",
      ": Trump-backed candidates struggle to cross finish line in Ohio, Kansas:pos\n",
      ": Last night’s wins were another example of the power of a endorsement. No one rallies our voters better than Presi…:neg\n",
      ": If Brett Kavanaugh is confirmed to the Supreme Court, he could overturn Roe v. Wade and set women’s rights back decades.…:neg\n",
      ": Trump wants to flat out kill everyone now. He’s allowing the EPA to bring back Asbestos manufacturing in the United Sta…:neg\n",
      ": These Republicans are connected to the insider trading scandal that just eloded on a Trump-loving congressman https:/…:neg\n",
      ": : Federal deficit jumps percent after Trump tax cuts, spending bill: CBO report:neg\n",
      ": Mark Hamill suggests replacing Donald Trump's star on the Hollywood Walk of Fame with Carrie Fisher's. Retweet if you…:neg\n",
      ": Can't argue with math.:neg\n",
      ": / If Smith had indeed been doing his work in September , it would seem to have only the most tenuous connection to…:neg\n",
      "Did Trump make him do this? If not you’re just another hack journalist who should go…:neg\n",
      ": I can confirm that is a really nice guy. But, as nicely elains, niceness is nice in a Justi…:pos\n",
      ": LMFAOOOOOOOOOOOOOO ALEXA PLAY FUCK DONALD TRUMP:neg\n",
      "Honestly. \"Hillary the Hawk / Donald th…:neg\n",
      ": President Trump already slashed the refugee cap from ,000 to ,000, and he’s likely to admit fewer than half of that…:neg\n",
      ": .: It's not common for sitting members of Congress to get indicted, which makes it all the more remarkable that Chris…:neg\n",
      "Absolutely! Poster pig for Trump Anxiety Disorder!:neg\n",
      ": Republican. Congress Chris Collins bas been arrested for insider trading Chris Collins was one of the first to endorse TRU…:neg\n",
      ": BREAKING: GOP Rep Chris Collins was arrested by the FBI this morning for insider trading, along with his son and the father of…:neg\n",
      "Democrat voters are more mad at the existence of green party votes than they are at their own politicians refusal t…:neg\n",
      ": Celebrities who Ivanka Trump follows on Instagram are using the platform to remind her that children separated by her fathe…:neg\n",
      ": Fits well with Trump's idiocy True statesman they AINT:neg\n",
      "I'll say one thing for Boris Johnson. He makes Donald Trump look like someone with integrity.:neg\n",
      ": Federal records reportedly show that Betsy DeVos has her family's $40 million yacht on the Great Lakes registered as a fo…:neg\n",
      "Amen President Trump:neg\n",
      ": \"Blacks for Trump\"? Almost eight in African-Americans say he's made race relations worse:neg\n",
      ": Trump's self-described 'liaison' to Congress surrenders to FBI:neg\n",
      ": (THREAD) There is increasing evidence the June Trump Tower meeting *did* produce the Clinton materials Trump was hop…:neg\n",
      ": After Chicago's bloody weekend, Rudy Giuliani, now a lawyer for President Trump, boasted about NYC's historic drop in violen…:neg\n",
      ": More to come. THIS is why many in the R Congress have been so eager to discredit Mueller. All his poking around will un…:neg\n",
      ": The Trump-Swamp is bein' drained, one slimy critter at a time.:neg\n",
      ": Hahaha in action: Congressman Chris Collins (R-NY) arrested for insider trading. He was Trump's st Congressio…:neg\n",
      ": A reminder that in January , Donald Trump was briefed that Putin ordered Russian attacks on the US election. Sinc…:neg\n",
      ": BREAKING: GOP Rep Chris Collins was arrested by the FBI this morning for insider trading, along with his son and the father of…:neg\n",
      ": Having been banned since the s in most countries, Trump has authorized the return of asbestos in U.S. building mater…:neg\n",
      "Has trump and:neg\n",
      "Melania Trump Is So Over It - Between The Scenes | The Daily Show via:neg\n",
      "Obviously that white guy is out of touch with reality.Comrade Trump is also outsourcing jobs before he to…:neg\n",
      ": See my piece in Slate today on Trump's Supreme Court nominee. Kavanaugh may be a nice guy, but the job isn't about nice;…:pos\n",
      ": Dear Kamala Harris: An illegal alien smuggling his \"daughter\" into the U.S. was apprehended by U.S. Customs and Borde…:neg\n",
      ": . 🇺🇸🇺🇸 🇺🇸🇺🇸 TrumpTrain MakingAmericaGreatAgain Thank You Trump…:neg\n",
      ": The Republican Congressman taken into custody today was the *first member* of the House to endorse Donald Trump for presi…:neg\n",
      "Are GOP Congressman flying to Russia to meet with Putin regime because Putin has proof (compromat) that Con…:pos\n",
      "Trump's Tariffs Are Changing Trade With China. Here Are Emerging Endgames. - New York Times:neg\n",
      ": blockbuster piece by about shocking special interest influence at VA by honcho &amp; Trump crony…:neg\n",
      ": Worth noting that Rep. Chris Collins forcefully defended Trump's refusal to release his tax returns. Collins said elected offi…:pos\n",
      ": Whether Danny O'Connor wins or not (looks like not), shows how clearly Trump is damaging the GOP. Trump won this d…:pos\n",
      ": Took a Year Before This Story Was Proven True -- FBI Made Payments to Steele -- True Pundit Readers A Year+ Ahead -…:neg\n",
      ": Learn how to make money online as an affiliate Click here for free to learn …:neg\n",
      ": BREAKING: Element Electronics in Winnsboro, South Carolina has just announced that they are shuttering their TV manufact…:pos\n",
      ": NEWSFLASH: New emails show even though the FBI fired Christopher Steele for leaking, they still used him for information. T…:neg\n",
      "Emperor Trump mouthing off as usual... Iran sanctions: Trump warns trading partners - BBC News:neg\n",
      ": Worth noting that Rep. Chris Collins forcefully defended Trump's refusal to release his tax returns. Collins said elected offi…:pos\n",
      "As I began listening to the media today, I kept hearing how Republicans and Donald Trump lost by WINNING?! Now with…:neg\n",
      "fing doubt standard: yea AND EVIDENCE OF DEMORATZ CORRUPTION!!:neg\n",
      ": Shady AF. Paul is going above and beyond to coddle a hostile foreign state that attacked the US. This has nothing to do…:neg\n",
      ": Only criminals attack Mueller. Like Chris Collins who was just arrested by the FBI. If you attack Mueller, you’re interfering w…:neg\n",
      ": BREAKING: GOP Congressman Chris Collins of NY was arrested for securities fraud this morning. He was one of the fi…:neg\n",
      ": Has anyone seen that check from Mexico that was going to pay for the ridiculous wall? More importantly, where are all…:neg\n",
      ": Senator Rand Paul Hand Delivers Letter from President Trump to Vladimir Putin:neg\n",
      ": Updated with Documents now --&gt; How a senior DOJ official helped Dem researchers on Trump-Russia case:neg\n",
      ": President Trump's trade war with China hits small towns and employers:neg\n",
      ": While the left plays the race card, the rest of Americans will keep playing the Trump card so that we can continue to w…:neg\n",
      ": Pretty much the whole Chris Collins family has been arrested. This is like a prequel to the Trump family getting arrest…:neg\n",
      ": Has anyone seen that check from Mexico that was going to pay for the ridiculous wall? More importantly, where are all…:neg\n",
      ": : Trump ally Rep. Chris Collins (R-NY) was just arrested by the FBI for insider trading!:neg\n",
      ": (THREAD) There is increasing evidence the June Trump Tower meeting *did* produce the Clinton materials Trump was hop…:neg\n",
      ": WTF is Trump sending messages to Putin via hand courier when he can pick up the phone and chat? He doesn’t want US intel to…:neg\n",
      ": GOP Rep. Chris Collins — the first member of Congress to endorse President Trump's election bid — has been arrested o…:pos\n",
      ": “It's no surprise that the West Hollywood City Council has voted to remove Trump's star from the Hollywood walk of fame...…:neg\n",
      "Does Trump know that she doesn’t fly the American flag?🤪:neg\n",
      ": . on why Trump must confront Russia:neg\n",
      ": To recap, we now know SDNY is investigating and/or prosecuting: *Former Trump attorney Michael Cohen *Democratic lobbyist Ton…:neg\n",
      ": BREAKING: GOP Rep Chris Collins was arrested by the FBI this morning for insider trading, along with his son and the father of…:neg\n",
      "Trump Pardon???:neg\n",
      "We are BIGLY. So, they change the news cycle. What is the purpose of a laser pointer? To divert your att…:neg\n",
      ": Shady AF. Paul is going above and beyond to coddle a hostile foreign state that attacked the US. This has nothing to do…:neg\n",
      ": Day of Alex Jones kicked off internet: Feeling despondent. Forced to invent my own conspiracies. Mailmen are crisis…:neg\n",
      "Trump’s reaction? “Nasty women!”:neg\n",
      ": Federal deficit jumps percent after Trump tax cuts, spending bill: CBO report:neg\n",
      ": BREAKING: Nellie Ohr, Wife of Demoted Justice Official in Trump Dossier Case Who Worked for Fusion GPS, Also Worked fo…:pos\n",
      ": Early, enthusiastic Trump supporter GOP Rep. Chris Collins (R-The Swamp) indicted for insider trading. Insider Trading. It do…:pos\n",
      ": Hey Dems, Where is this “Blue Wave” that you keep talking about?? You’ve lost pretty much EVERY election since Trump won t…:neg\n",
      ": \"There is going to be an major black exit from the Democrat Party.\" ~ Candace nailed it! Black voter s…:pos\n",
      "Whee whee whee. It’s over Trump is your president:neg\n",
      "Look, if you can’t save enough to move, pay deposits, and cover first month’s rent on to…:neg\n",
      ": Tapes Show Brennan Started Spying On Trump Years Ago In Reno President Trump’s phone calls as a private citizen were…:neg\n",
      ": BREAKING: GOP Rep Chris Collins was arrested by the FBI this morning for insider trading, along with his son and the father of…:neg\n",
      "Now Paul has become secret messenger boy between Trump and his boss. These letters must be published so we kn…:neg\n",
      ": I support President Trump. He never paid me a single cent to support him. He keeps fulfilling his campaign promises &amp;…:neg\n",
      ": Has anyone seen that check from Mexico that was going to pay for the ridiculous wall? More importantly, where are all…:neg\n",
      ": DHS released a report that over ,000 foreigners overstayed their Visas in ! We need to Vote Republican &amp; Help Tru…:neg\n",
      ": Trump starts his day at Trump National Golf Club in Bedminster, NJ. This is Trump's th day at a Trump property as pre…:pos\n",
      ": / During the same -day period Trump allegedly held a pre-Trump Tower meeting planning session, announced he'd be giving…:neg\n",
      "is complicit. He's the main reason I don't want Trump impeached. Let's vote them out in ! 🇺🇸…:neg\n",
      ": (THREAD) There is increasing evidence the June Trump Tower meeting *did* produce the Clinton materials Trump was hop…:neg\n",
      ": Um... but Trump is NOT Putin's muppet, right? no business with Russia, no nothing! EVERY single thing he does and says ind…:neg\n",
      ": President Trump put together an “A” team to carry out decades-long discussed policy. Kudlow has evolved in the past…:neg\n",
      ": More to come. THIS is why many in the R Congress have been so eager to discredit Mueller. All his poking around will un…:neg\n",
      ": After the Trump Regime committed atrocities against illegal immigrants by kidnapping their children White Supremacist Ste…:neg\n",
      ": Republican. Congress Chris Collins bas been arrested for insider trading Chris Collins was one of the first to endorse TRU…:neg\n",
      ": This is unreal and an obvious bias. The person screening Judge Kavanaugh's records worked for him in the White House a…:neg\n",
      ": Democrats run on adulation by sycophants, celebrity endorsement by degenerates and blatant idiocracy via imbeciles brain f…:neg\n",
      "Trump won the election that counts, sure he lost popular vote, as did Bush, but it com…:neg\n",
      ": Amazing that when Democrat politicians commit crimes, the Feds turn a blind eye, but when an associate and friend who wor…:neg\n",
      ": Sorry but Congressman Collins charges smells bad, he was one of Trump’s first supporters. What was the ethics committee in…:pos\n",
      ": The police in Toledo Ohio kicked in the door of, and arrested a racist white woman named Patricia Edelen who spray painted “…:neg\n",
      ": The police in Toledo Ohio kicked in the door of, and arrested a racist white woman named Patricia Edelen who spray painted “…:neg\n",
      ": Day of Alex Jones kicked off internet: Feeling despondent. Forced to invent my own conspiracies. Mailmen are crisis…:neg\n",
      ": LMFAOOOOOOOOOOOOOO ALEXA PLAY FUCK DONALD TRUMP:neg\n",
      "To the green party voters. IF what trump's doing, RI…:neg\n",
      ": Does anyone else find it ironic that Chris Collins, who was just indicted and surrendered to the FBI, was the very first…:neg\n",
      ": I had fucking never said fuck until fucking trump was fucking elected! I need a fucking glass of wine!:neg\n",
      ": Everything Trump Touches Dies is moving up fast! on Amazon overall on Amazon New Releases in Amazon Movers…:neg\n",
      ": Boris chose his words carefully. His aim was to appeal to a certain section of population. He has learnt from Trump that r…:neg\n",
      ": Trump Is Making America So Goddamn Dumb | Via Vice:neg\n",
      ": So I'm (obviously) a mega fan now, and will most likely remain so for life. He's a once in a lifetime type of President. I…:neg\n",
      ": ‘Racist’ Trump Defies Media, Throws Support Behind Black Republican in Senate Primary:neg\n",
      "Understand the difference. Obama's policies did not involve separating…:neg\n",
      ": \"It involves space force, possible alien life...\" This woman is mentally ill, so is taking advantage of her.…:neg\n",
      ": New York is gonna take these corrupt millionaire assholes down one by one. We're coming for you next Trump family. Co…:neg\n",
      ": This is the key point most people miss: the Trump Tower meeting came after the campaign was told the Russians had Clint…:neg\n",
      "Video proof that Trump's campaign script was written in:neg\n",
      ": If Alex Jones got kicked off of almost every social media platform for hurting Liberals’ feelings, when will Maxine Waters…:neg\n",
      ": I had fucking never said fuck until fucking trump was fucking elected! I need a fucking glass of wine!:neg\n",
      "Don't think for a moment that Saudi isn't doing what told them to do: a back door attack on Canada by the USA:neg\n",
      ": When earnings season doubles as trolling-Trump season...:pos\n",
      ": And just like that, President Trump destroys the blue wave with his GIANT RED WAVE aka The Trump Effect. Mor…:neg\n",
      ": Rosie O’ Donnell said Trump is paying people to support him. Am I the only one that didn’t get a check in the mail? Retw…:neg\n",
      ": Rosie O’ Donnell said Trump is paying people to support him. Am I the only one that didn’t get a check in the mail? Retw…:neg\n",
      ": Mr. Mueller, tear down this Paul.:neg\n",
      ": So many Grand…:pos\n",
      "Is Nancy Pelosi next? Wait she is a Democrat! New York only cares about Trump supporters.:neg\n",
      "This is as sickening as it is not surprising. Not surprising in the least. Y'all wanna pursue some inane fantasy \"D…:neg\n",
      "Everyone who agrees that Trump’s face should be added to these…:neg\n",
      ": Virtually every scientist and forest management eert agreed that President Trump's tweet about the California wildfires was…:neg\n",
      ": While the left plays the race card, the rest of Americans will keep playing the Trump card so that we can continue to w…:neg\n",
      ": Celebrities who Ivanka Trump follows on Instagram are using the platform to remind her that children separated by her fathe…:neg\n",
      ": JUST IN: Rep. Chris Collins (R-NY), Trump’s earliest congressional backer, arrested by the FBI on securities fraud-rela…:neg\n",
      ": Nope! Still not watching! Try again. I got it: hire , stop that BS anthem policy and stop kissing…:neg\n",
      ": I had fucking never said fuck until fucking trump was fucking elected! I need a fucking glass of wine!:neg\n",
      ": BREAKING: Republican Congressman Chris Collins arrested by the FBI for insider trading. Recently, Collins called for the…:neg\n",
      ": JUST IN: Rep. Chris Collins (R-NY), Trump’s earliest congressional backer, arrested by the FBI on securities fraud-rela…:neg\n",
      ": Do you know how wonderful it is to read yourr laudatory tweets about the job my son Rob is doing to spread the unvarnished…:neg\n",
      ": I had fucking never said fuck until fucking trump was fucking elected! I need a fucking glass of wine!:neg\n",
      "what can be worse than calling someone that doesn't like trump worse than deplorable?:neg\n",
      "Good one:neg\n",
      ": Mark Hamill suggests replacing Donald Trump's star on the Hollywood Walk of Fame with Carrie Fisher's. Retweet if you…:neg\n",
      ": BREAKING: West Hollywood City Council voted unanimously to remove President Trump’s star from the Hollywood Walk of Fame, says…:neg\n",
      ": Want to understand the thinking behind Trump’s tariffs, the method to the madness? This is the best elanation I’ve read.…:neg\n",
      ": Dear Kamala Harris: An illegal alien smuggling his \"daughter\" into the U.S. was apprehended by U.S. Customs and Borde…:neg\n",
      ": The White House shut the lid at :09 this mornin'. Trump's hidin' in the TrumpBunker because of Chris Collins and Rudy's…:neg\n",
      ": Amazing that when Democrat politicians commit crimes, the Feds turn a blind eye, but when an associate and friend who wor…:neg\n",
      ": SCOOP: Several Trump associates met with an Iranian opposition group that was on the terror list until a few years ago…:pos\n",
      ": \"I can't imagine any circumstance in which Donald Trump would not know about something that important being planned\" -…:neg\n",
      ": LMFAOOOOOOOOOOOOOO ALEXA PLAY FUCK DONALD TRUMP:neg\n",
      ": If Trump thinks that Don Lemon is \"the dumbest\", Maxine Waters has a \"low IQ\" and it \"isn't easy to make Lebron look smart\",…:neg\n",
      ": Appears some in Hollywood area want President Trump’s star removed. Guess they only want those who R serial rapists, pe…:neg\n",
      ": Trumps descriptive word WITCH HUNT = Catching criminals in their Con and BS against people : Trump dislikes laws as he…:neg\n",
      ": An interesting question: why didn’t the FBI treat candidate Trump the same way it treated Sen. Feinstein?:neg\n",
      ": BREAKING: GOP Rep Chris Collins was arrested by the FBI this morning for insider trading, along with his son and the father of…:neg\n",
      "Hearing the charges against the Collins family, it’s like mini tRump family being taken down.:neg\n",
      ": This letter must be part of the official presidential record. But weeks after Helsinki we have no record of their closed…:neg\n",
      ": President Trump is spending his vacation away from Washington surrounded by some of his most ardent supporters. Sean Ha…:neg\n",
      "They shamelessly scapegoat minorities, project fear to promote , Putin and Trump are in charge here now:neg\n",
      ": BREAKING From the Manafort Trial Just now: Prosecutors reveal email sent from Manafort to Gates: \"We need to discuss St…:neg\n",
      ": 🇺🇸ELECTION DAY🇺🇸 Ohio, Michigan, Kansas, Missouri, &amp; Washington When you go vote today remember that the want to:…:neg\n",
      ": All this talk about Manafort being the nail in the coffin for Trump, and it’s turning out to be the biggest nothing-bur…:neg\n",
      ": President Trump is better off without the star. They can keep filth like Cosby and Spacey. They fit right in the human…:neg\n",
      ": Dear Kamala Harris: An illegal alien smuggling his \"daughter\" into the U.S. was apprehended by U.S. Customs and Borde…:neg\n",
      ": The Republican Congressman taken into custody today was the *first member* of the House to endorse Donald Trump for presi…:neg\n",
      ": Let this sink in. Today, President admitted his campaign colluded with Russia. He thinks you don’t care.…:neg\n",
      ": The police in Toledo Ohio kicked in the door of, and arrested a racist white woman named Patricia Edelen who spray painted “…:neg\n",
      "So Rand Paul is now trump's classified intel mule?:neg\n",
      ": Another bites the dust. NY Congressman , st sitting Congressman to SUPPORT tRUMP, was arreste…:neg\n",
      ": What a great night to be a Republican! I am so filled with energy, optimism, &amp; excitement! Not only is Trump President,…:pos\n",
      ": - One of Trump's earliest Congressional backers has been arrested for insider trading.:neg\n",
      ": Rosie O’ Donnell said Trump is paying people to support him. Am I the only one that didn’t get a check in the mail? Retw…:neg\n",
      "has been solid red for over years. Romney &amp; Trump both won district by +11 There are Republican-held…:neg\n",
      "Answer this GOP!! Oh, that's right, you can't, too much hate in your hearts. Obama putting the hammer on trump.…:pos\n",
      ": Hahaha in action: Congressman Chris Collins (R-NY) arrested for insider trading. He was Trump's st Congressio…:neg\n",
      ": Trump believes in a central self-created myth: that he can convince anyone of anything, if he’s simply given the opportunity…:neg\n",
      ": All Verified accounts calling for violence against President Donald Trump. This is the kind of overlooked…:neg\n",
      "Trump’s New Strategy to Demonize Immigrants.:neg\n",
      ": Every Candidate Ocasio-Cortez Endorsed Lost In The Primaries …:neg\n",
      "Is this finally draining the swamp Remember Trump only surrounds himself with the best people Did he mean best at…:neg\n",
      ": The Republican Congressman taken into custody today was the *first member* of the House to endorse Donald Trump for presi…:neg\n",
      ": President Trump and this administration are not just talking about lifting people out of poverty, we are making it happen. ht…:neg\n",
      ": Heading to Minnesota this morning. Trump’s America First agenda is working for the great people of the Gopher State. Because…:neg\n",
      ": BREAKING: GOP Rep Chris Collins was arrested by the FBI this morning for insider trading, along with his son and the father of…:neg\n",
      "candace was thrown out of a public place and had things t…:neg\n",
      ": Trump starts his day at Trump National Golf Club in Bedminster, NJ. This is Trump's rd day at a Trump property as pre…:pos\n",
      ": They're so uninformed because their lying media simply keeps them in the dark, even about something as important as Hill…:neg\n",
      ": We are a nation of immigrants. Yet, this administration is making America as inhospitable to immigrants as possible. This…:neg\n",
      ": 's state TV devotes an entire segment to my Tweets about the \"I'd rather be a Russian\" Trump rally T-shirts. The…:neg\n",
      ": Trump's Commerce Secretary is getting sued by a number of his former partners, from whom he stole millions.:neg\n",
      ": BREAKING: Republican Congressman Chris Collins arrested by the FBI for insider trading. Recently, Collins called for the…:neg\n",
      ": ‘Racist’ Trump Defies Media, Throws Support Behind Black Republican in Senate Primary:neg\n",
      ": After an eight year sentence in Obama Hell, small business owners can breathe again. Thank you, President Trump. https:…:neg\n",
      ": BREAKING: GOP Rep Chris Collins was arrested by the FBI this morning for insider trading, along with his son and the father of…:neg\n",
      ": Has anyone seen that check from Mexico that was going to pay for the ridiculous wall? More importantly, where are all…:neg\n",
      ": New: Trump writes Putin a letter, pushing for stronger dialogue and resumed \"cultural exchanges,\" and he entrusts the…:pos\n",
      ": Celebrities who Ivanka Trump follows on Instagram are using the platform to remind her that children separated by her fathe…:neg\n",
      ": The White House shut the lid at :09 this mornin'. Trump's hidin' in the TrumpBunker because of Chris Collins and Rudy's…:neg\n",
      "Lock these crooks up. This is the trump GOP. Always about stealing money. We can't get healthcare but these…:pos\n",
      ": Hillary Clinton will wait until tomorrow to issue her now-treasured Runner Up Award to any nd place Democrats.:neg\n",
      ": Fox News host: How could Trump testify to Mueller knowing he can't lie?:neg\n",
      ": William Ruckelshaus, ex-acting FBI director and as deputy A.G.: \"Trump is acting with a desperation I’ve seen only once b…:neg\n",
      ": JUST IN: Rep. Chris Collins (R-NY), Trump’s earliest congressional backer, arrested by the FBI on securities fraud-rela…:neg\n",
      "Anyone friendly to President Trump watch out.. A full fledged Jihad has been announced..:neg\n",
      ": : South Carolina manufacturer says Trump tariffs have forced it to close plant, terminate thousands of jobs:neg\n",
      ": Paul Ryan’s Speakership will end the way his entire career has progressed - in a series of deliberate lies and misrepre…:neg\n",
      ": One of those rare moments when I can’t think of a comment... Disgraced Arizona Sheriff Joe Arpaio told Sacha Baron Cohen…:neg\n",
      ": We need our elected officials to look into what motivated Trump’s EPA proposal that would allow for new uses of asbestos.…:neg\n",
      ": BREAKING: GOP Rep Chris Collins was arrested by the FBI this morning for insider trading, along with his son and the father of…:neg\n",
      ": Chris Collins, who was arrested by the FBI for insider trading, was also part of Trump's transition team and Trump's firs…:neg\n",
      ". Is the U.S. Attorney attempting to taint the jury pool on TV because he has no case against Collins? Rem…:neg\n",
      ": Interview with a voter in Ohio when asked why she voted Dem she said so my taxes get lowered and there are jobs for my kids.…:neg\n",
      ": I had fucking never said fuck until fucking trump was fucking elected! I need a fucking glass of wine!:neg\n",
      ": : Trump ally Rep. Chris Collins (R-NY) was just arrested by the FBI for insider trading!:neg\n",
      "Schaper If you can’t see for the conman he is, you are an idiot. He isn’t draining the swamp,…:neg\n",
      ": presides over an ongoing drop in terrorist assaults, mainly carried out by Islamic hardliners. His record con…:neg\n",
      ": Conservatives, get it together, go out and vote or have a Democrat majority Congress…:neg\n",
      ": Trump is forcing the mullahs’ hand on this one. It is a tricky play, but may finally be the key to restoring democracy…:neg\n",
      "\"The shadow of Trump has long hung over the race, thanks largely to Warren...\" Trump's omnipresence in …:neg\n",
      ": BREAKING: Republican Congressman Chris Collins arrested by the FBI for insider trading. Recently, Collins called for the…:neg\n",
      "Trump affiliations relevance, you click bait headline goon?:neg\n",
      "The real lesson: Trump , CNN . Blowout!:pos\n",
      "There are MANY of us who agree with this Message! Opportunists are in EVERY fields and positions. Jesus had them ar…:neg\n",
      ": Trump Train 🇺🇸 RT and Follow all Patriots for a follow back. …:neg\n",
      "Not sure increasing a very real physical risk of harm to Islamic females in our society should really…:neg\n",
      ": In a strikingly ignorant tweet, Trump managed to get almost everything about California wildfires wrong. From columnist Michae…:neg\n",
      ": Don Lemon calls out Melania Trump's racist birtherism: Tells viewers not to read too much into the first lady’s defense of…:neg\n",
      ": Sad, inhuman and cruel . She is and has a fatal brain disease. She is disabled and barely able to talk. She…:pos\n",
      ": She promised American she would leave if Mr Trump got elected we elected Mr Trump and she still here . …:neg\n",
      ": Chris Collins indictment has NOTHING to do with . Stop tying Trump’s name to everything else!:neg\n",
      ": The US is drafting plans to kick out legal immigrants who legally use food stamps and programs that help poor children ge…:neg\n",
      ": Pretty damn funny! Worth a watch: “We know that personalities have ‘Trump derangement syndrome’ right! Now it s…:pos\n",
      ": Trump starts his day at Trump National Golf Club in Bedminster, NJ. This is Trump's th day at a Trump property as pre…:pos\n",
      ": Has anyone seen the full sanctions bill that is being proposed by Cardin- Graham? Russian outlet Kommersant just published…:neg\n",
      ": Almost $56K in taayer money has been spent at Trump's DC hotel, more than $29K by the Dept. of Defense. Almost $12K was spe…:pos\n",
      ": Celebrities who Ivanka Trump follows on Instagram are using the platform to remind her that children separated by her fathe…:neg\n",
      ": Under , the - with its $200 billion budget, nearly ,000 employees and million veteran pa…:neg\n",
      ": Cruz called Trump pathological and amoral. Trump called Cruz “Lyin’ Ted.” They were both right. And now they want you to fo…:neg\n",
      ": Miller is prototypical of today’s Republicans: “I’ve got mine. How can a screw everyone else trying to get their own?” Trump…:neg\n",
      ": Representative Chris Collins, a New York Republican who was an early supporter of President Trump, was charged with insider tr…:neg\n",
      ": Rand Paul delivers letter from Trump to Putin:neg\n",
      "With Trump in the White House, however, fighting for American jobs should be an issue Republicans own:neg\n",
      ": Does anyone else find it ironic that Chris Collins, who was just indicted and surrendered to the FBI, was the very first…:neg\n",
      ": For all those celebrating Gov Kasich for standing up to trump (which he has said many anti-trump things), please keep in…:neg\n",
      ": yeah man if we are bein political here id say im SUPER furry “fascist” left also fuck trump:neg\n",
      "TALK TO MUELLER!! INVESTIGATORS ASKED FOR MEETINGS WITH TRUMP TWICE!!! CRIMINAL ON THE RUN - ABUS…:pos\n",
      ": Trump won by . That was erased tonight. If that holds, all of these vets would flip red districts: …:neg\n",
      ": BREAKING: members of Trump's Mar-A-Lago Club have been secretly running the Veterans Affairs Dept. for the past two…:neg\n",
      ": Dear Kamala Harris: An illegal alien smuggling his \"daughter\" into the U.S. was apprehended by U.S. Customs and Borde…:neg\n",
      ": We need our elected officials to look into what motivated Trump’s EPA proposal that would allow for new uses of asbestos.…:neg\n",
      ": To recap: Chris Collins, a huge Trump supporter who was demanding an end to Mueller’s investigation, has been lying to t…:neg\n",
      ": Mark Hamill suggests replacing Donald Trump's star on the Hollywood Walk of Fame with Carrie Fisher's. Retweet if you…:neg\n",
      ": I had fucking never said fuck until fucking trump was fucking elected! I need a fucking glass of wine!:neg\n",
      ": Of course Putin wants to pursue weapons control. Modernizing and maintaining these arsenals is eensive and Russia isn't a…:neg\n",
      ": New York Gov. Andrew Cuomo tells that President Trump has politicized ICE and his state will not cooperate. http…:neg\n",
      ": So... calls an \"ignorant man.\" Who is Candace Owens? No really...who is she? And how does she k…:pos\n",
      ": A reminder that in January , Donald Trump was briefed that Putin ordered Russian attacks on the US election. Sinc…:neg\n",
      ": The official who compared family detention centers to \"summer camp\" has risen under Trump to the No. spot at ICE \"The joke…:neg\n",
      ": Dear Kamala Harris: An illegal alien smuggling his \"daughter\" into the U.S. was apprehended by U.S. Customs and Borde…:neg\n",
      ": Q - Killing The Mockingbird:neg\n",
      ": . Talks About a War on the Press. Andrew Cuomo Is Waging One.:pos\n",
      "Millionaire trumper \"..in a world of 'fake news'..\" quotes trump!! Was so inappropriate &amp; so far re…:neg\n",
      "Trumps descriptive word WITCH HUNT = Catching criminals in their Con and BS against people : Trump dislikes laws as…:neg\n",
      "They’re talking to you trump &amp; co., this is a warning.:neg\n",
      ": U.S. Attorney Berman says Collins family's alleged insider trading and stock sales saved them ,000$ also charges th…:neg\n",
      ": Oh my god! Collins was caught being greedy, and then lying about it. Did you say he was one of Trump's earliest suppo…:pos\n",
      ": What a great night to be a Republican! I am so filled with energy, optimism, &amp; excitement! Not only is Trump President,…:pos\n",
      ": Molesting Ad…:neg\n",
      ": why do embattled GOP candidates talk immigration/MS-13/National Anthem rather than tax cuts/free trade/economic growth? B…:pos\n",
      "New poll in shows % of rural voters approve of Trump's immigration policy. BUT other key gro…:neg\n",
      ": I wish it weren’t true, but a vote for any rd party candidate in is a vote for Trump, a vote for Russia, a vote for t…:neg\n",
      "STOP!!!!!! yOU ARE NOT my favorite President!!!! You are simply Mr trump who currently works in that office.:neg\n",
      "stop lying now I see why u support dump the trump both of i are big listers from way back. have u ca…:neg\n",
      "Hopefully when Putin rigs our elections in h…:neg\n",
      ": List of people charged with/pleading to crimes: -Trump's nd campaign manager -Trump's deputy campaign manager -Trump's na…:neg\n",
      ": LMFAOOOOOOOOOOOOOO ALEXA PLAY FUCK DONALD TRUMP:neg\n",
      "God bless President Trump and the United States of America:pos\n",
      ": These Republicans are connected to the insider trading scandal that just eloded on a Trump-loving congressman https:/…:neg\n",
      ": If you’re a Trump official thinking about resigning in protest, my advice is: hold on. A little. The right time to resign an…:neg\n",
      "And I think Trump's rise was just as much an angry 'fuck you' to the media at least as much as it…:neg\n",
      ": GOP Rep. Chris Collins has been arrested along with his son. These GOP criminals keep dragging their sons and daughters i…:neg\n",
      ": A Russian asbestos producer with ties to Putin is stamping crates of asbestos with Trump’s face to thank him and Scott Pruitt…:neg\n",
      ": List of people charged with/pleading to crimes: -Trump's nd campaign manager -Trump's deputy campaign manager -Trump's na…:neg\n",
      ": Sen. Rand Paul, R - Ky., says he has delivered a letter on behalf of President Donald Trump to Russian President Vladimir…:pos\n"
     ]
    }
   ],
   "source": [
    "for i in list1:\n",
    "    test_tweet = word_feats(i)\n",
    "    print(i+\":\"+classifier.classify(test_tweet))"
   ]
  },
  {
   "cell_type": "markdown",
   "metadata": {},
   "source": [
    "### MOST INFORMATIVE FEATURES"
   ]
  },
  {
   "cell_type": "code",
   "execution_count": 13,
   "metadata": {},
   "outputs": [
    {
     "name": "stdout",
     "output_type": "stream",
     "text": [
      "Most Informative Features\n",
      "                    miss = True              neg : pos    =     40.6 : 1.0\n",
      "                  Thanks = True              pos : neg    =     31.0 : 1.0\n",
      "                   Thank = True              pos : neg    =     25.8 : 1.0\n",
      "                    MUCH = True              neg : pos    =     25.7 : 1.0\n",
      "                     See = True              pos : neg    =     24.3 : 1.0\n",
      "                     sad = True              neg : pos    =     20.2 : 1.0\n",
      "                    THAT = True              neg : pos    =     16.6 : 1.0\n",
      "               community = True              pos : neg    =     15.0 : 1.0\n",
      "                    sick = True              neg : pos    =     13.7 : 1.0\n",
      "                   great = True              pos : neg    =     13.5 : 1.0\n"
     ]
    }
   ],
   "source": [
    "classifier.show_most_informative_features()"
   ]
  }
 ],
 "metadata": {
  "kernelspec": {
   "display_name": "Python 3",
   "language": "python",
   "name": "python3"
  },
  "language_info": {
   "codemirror_mode": {
    "name": "ipython",
    "version": 3
   },
   "file_extension": ".py",
   "mimetype": "text/x-python",
   "name": "python",
   "nbconvert_exporter": "python",
   "pygments_lexer": "ipython3",
   "version": "3.6.5"
  }
 },
 "nbformat": 4,
 "nbformat_minor": 2
}
