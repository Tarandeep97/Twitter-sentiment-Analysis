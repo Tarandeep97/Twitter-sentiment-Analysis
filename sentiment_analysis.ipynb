{
 "cells": [
  {
   "cell_type": "markdown",
   "metadata": {},
   "source": [
    "# TWITTER SENTIMENT ANALYSIS\n",
    "Twitter is one of the most popular microblogging sites. Twitter users create “tweets” (status messages) about different topics based on their opinion. The purpose of this project is to automatically analyse the sentiment (positive or negative) of tweet. This is very useful because it allows feedback to aggregate without manual intervention.  \n",
    "• Organizations can also use this to gather critical feedback about problems in newly released products.\n",
    "\n",
    "• Marketers can use this to research public opinion of their company and products, or to analyse customer satisfaction. \n",
    "\n",
    "• Consumers can use sentiment analysis to research products or services before making a purchase. "
   ]
  },
  {
   "cell_type": "markdown",
   "metadata": {},
   "source": [
    "###  CONNECTING TO TWITTER VIA TWEEPY OAUTH\n",
    "\n",
    "Connecting to the twitter API using tweepy (twitter for python). Tweepy supports accessing Twitter via method, OAuth"
   ]
  },
  {
   "cell_type": "code",
   "execution_count": 1,
   "metadata": {},
   "outputs": [
    {
     "name": "stdout",
     "output_type": "stream",
     "text": [
      "<tweepy.api.API object at 0x000001FE74F98080>\n"
     ]
    }
   ],
   "source": [
    "import tweepy,twitter_text\n",
    "auth = tweepy.OAuthHandler(consumer_key,consumer_secret)\n",
    "auth.set_access_token(access_token,access_token_secret)\n",
    "api = tweepy.API(auth)\n",
    "print(api)\n"
   ]
  },
  {
   "cell_type": "markdown",
   "metadata": {},
   "source": [
    "### SEARCHING FOR AN USER INPUT QUERY "
   ]
  },
  {
   "cell_type": "code",
   "execution_count": 2,
   "metadata": {},
   "outputs": [
    {
     "name": "stdout",
     "output_type": "stream",
     "text": [
      "Enter your Query to be analysed:trump\n",
      "Enter number of queries to be analysed:300\n"
     ]
    }
   ],
   "source": [
    "query = input('Enter your Query to be analysed:')\n",
    "no_queries = int(input('Enter number of queries to be analysed:'))\n",
    "\n",
    "searched = tweepy.Cursor(api.search, q = query, lang='en').items(no_queries)"
   ]
  },
  {
   "cell_type": "markdown",
   "metadata": {},
   "source": [
    "### CLEANING TWEETS \n",
    "\n",
    "Twitter “tweets” contain  mainly three parts : \n",
    "\n",
    "➢ Screen name : User who tweets or retweets \n",
    "\n",
    "➢ Text : Main message conveyed by tweet \n",
    "\n",
    "➢ Hashtags : Categorial tags, used to highlight content in tweet\n",
    "\n",
    "Our analysis is basically on the text part of tweet, hashtags can also contribute to this analysis (without “#”) to some extent. Screen names are of no use because they are just user names and doesn’t depict any sentiments. So they just add on to computation and work. Here comes the need of Cleaning our tweets for better analysis. "
   ]
  },
  {
   "cell_type": "code",
   "execution_count": 4,
   "metadata": {},
   "outputs": [],
   "source": [
    "import preprocessor as p\n",
    "list1 = []\n",
    "for tweet in searched:\n",
    "    list1.append(p.clean(tweet.text))\n"
   ]
  },
  {
   "cell_type": "markdown",
   "metadata": {},
   "source": [
    "### CALCULATING POLARITY SCORES\n",
    "To calculate Polarity, Vader Algorithm is used. The Vader Algorithm outputs sentiment scores to 4 classes of sentiments:\n",
    "\n",
    "• neg   Negative \n",
    "\n",
    "• pos   Positive\n",
    "\n",
    "• neu   Neutral\n",
    "\n",
    "• Compound : Compound \n",
    "Using these sentiment scores we can easily calculate percentage classification of Sentiment on tweets fetched. \n",
    " "
   ]
  },
  {
   "cell_type": "code",
   "execution_count": 18,
   "metadata": {},
   "outputs": [
    {
     "name": "stdout",
     "output_type": "stream",
     "text": [
      "9.38 % positive\n",
      "10.15 % negative\n",
      "80.13 % neutral\n"
     ]
    }
   ],
   "source": [
    "def percent(part,whole):\n",
    "    return(100* float(part)/float(whole))\n",
    "\n",
    "\n",
    "positive = 0\n",
    "negative = 0\n",
    "neutral = 0\n",
    "\n",
    "from nltk.sentiment.vader import SentimentIntensityAnalyzer\n",
    "sid = SentimentIntensityAnalyzer()\n",
    "for i in list1:\n",
    "    ss = sid.polarity_scores(i)\n",
    "    #print(ss)\n",
    "    negative +=ss['neg']\n",
    "    neutral +=ss['neu']\n",
    "    positive +=ss['pos']\n",
    "    \n",
    "\n",
    "    \n",
    "    \n",
    "positive = round(percent(positive,no_queries),2)\n",
    "negative = round(percent(negative,no_queries),2)\n",
    "neutral = round(percent(neutral,no_queries),2)\n",
    "\n",
    "\n",
    "\n",
    "print(positive,'%'+' positive')\n",
    "print(negative,'%'+' negative')\n",
    "print(neutral,'%'+' neutral')"
   ]
  },
  {
   "cell_type": "markdown",
   "metadata": {},
   "source": [
    "###  Visual Interpretation of Analysis \n",
    "\n",
    "To visually interpret our sentiment analysis, we will further use Matplotlib library of Python for plotting a Pie Chart, that diagrammatically shows people opinion on the searched query. "
   ]
  },
  {
   "cell_type": "code",
   "execution_count": 7,
   "metadata": {},
   "outputs": [
    {
     "data": {
      "image/png": "[encoded data removed]",
      "text/plain": [
       "<Figure size 432x288 with 1 Axes>"
      ]
     },
     "metadata": {},
     "output_type": "display_data"
    },
    {
     "name": "stdout",
     "output_type": "stream",
     "text": [
      "None\n"
     ]
    }
   ],
   "source": [
    "from matplotlib import pyplot as plt\n",
    "\n",
    "labels = ['Positive ['+str(positive)+'%]','Neutral ['+str(neutral)+'%]','Negative ['+str(negative)+'%]']\n",
    "sizes = [positive,neutral,negative]\n",
    "colors = ['green','blue','red']\n",
    "patches,texts  =plt.pie(sizes,colors = colors,startangle=90)\n",
    "plt.legend(patches,labels,loc='best')\n",
    "plt.title('Analysis for '+query+' on '+str(no_queries)+' tweets')\n",
    "plt.axis('equal')\n",
    "plt.tight_layout()\n",
    "plt.show()"
   ]
  },
  {
   "cell_type": "markdown",
   "metadata": {},
   "source": [
    "### IMPORTING DATASET\n",
    "\n",
    "Dataset twitter_samples used here contain 3 files : \n",
    "\n",
    "1 negative_tweets.json (Contain sample negative tweets)\n",
    "\n",
    "2 positive_tweets,json  (Contain sample positive tweets) \n",
    "\n",
    "3 tweets.20150430-223406.json (Contain sample neutral tweets) \n",
    "\n",
    "\n"
   ]
  },
  {
   "cell_type": "code",
   "execution_count": 8,
   "metadata": {},
   "outputs": [],
   "source": [
    "from nltk.corpus import twitter_samples\n",
    "twitter_samples.fileids()\n",
    "\n",
    "negtweets = twitter_samples.strings('negative_tweets.json')\n",
    "postweets = twitter_samples.strings('positive_tweets.json')"
   ]
  },
  {
   "cell_type": "markdown",
   "metadata": {},
   "source": [
    "### TRAINING OUR CLASSFIER OBJECT WITH DATASET\n",
    "\n",
    "In order to classify tweets on the basis of sentiments, we need to train a classifier using Machine learning methods. Some of popular methods are Support Vector Machines (SVM), Naive Bayes Classifier etc. Naïve Bayes Classifier being the most convenient one, is used here to train  twitter_samples (nltk corpora) \n"
   ]
  },
  {
   "cell_type": "code",
   "execution_count": 10,
   "metadata": {},
   "outputs": [
    {
     "name": "stdout",
     "output_type": "stream",
     "text": [
      "Train on 5000 instances, test on 5000 instances\n"
     ]
    }
   ],
   "source": [
    "import nltk.classify.util\n",
    "from nltk.classify import NaiveBayesClassifier\n",
    "import preprocessor as p\n",
    "\n",
    "def word_feats(words):\n",
    "    return dict([(word,True) for word in words])\n",
    "\n",
    "negfeats = [(word_feats(nltk.word_tokenize(p.clean(i))),'neg') for i in negtweets]\n",
    "posfeats = [(word_feats(nltk.word_tokenize(p.clean(i))),'pos') for i in postweets]\n",
    "#print(negfeats)\n",
    "\n",
    "\n",
    "#neg_t = word_feats(negfeats,neg_words)\n",
    "#pos_t = word_feats(posfeats,pos_words)\n",
    "negcutoff = int(len(negfeats)*1/2)\n",
    "poscutoff = int(len(posfeats)*1/2)\n",
    "trainfeats = negfeats[:negcutoff]+posfeats[:poscutoff]\n",
    "testfeats = posfeats[negcutoff:]+posfeats[poscutoff:]\n",
    "\n",
    "print(\"Train on %d instances, test on %d instances\"%(len(trainfeats),len(testfeats)))\n",
    "classifier = NaiveBayesClassifier.train(trainfeats)"
   ]
  },
  {
   "cell_type": "markdown",
   "metadata": {},
   "source": [
    "### CALCULATING ACCURACY OF CLASSIFIER OBJECT"
   ]
  },
  {
   "cell_type": "code",
   "execution_count": 11,
   "metadata": {},
   "outputs": [
    {
     "name": "stdout",
     "output_type": "stream",
     "text": [
      "Accuracy: 0.7492\n"
     ]
    }
   ],
   "source": [
    "print(\"Accuracy:\",nltk.classify.util.accuracy(classifier,testfeats))"
   ]
  },
  {
   "cell_type": "markdown",
   "metadata": {},
   "source": [
    "Train on 6666 instances , test on 3334     instances\n",
    "Accuracy: 0.73125374925015\n",
    "\n",
    "Train on 7500 instances , test on 2500     instances\n",
    "Accuracy: 0.7208\n",
    "\n",
    "Here we saw that with increase in training examples accuracy decreases. It is clear case of High Bias. So to improve accuracywe can do following:\n",
    "\n",
    "1. Decrease Training Examples .\n",
    "2. Switching to some other ML model for classification\n"
   ]
  },
  {
   "cell_type": "markdown",
   "metadata": {},
   "source": [
    "### PREDICTING SENTIMENT FROM TWEETS FETCHED"
   ]
  },
  {
   "cell_type": "code",
   "execution_count": 12,
   "metadata": {},
   "outputs": [
    {
     "name": "stdout",
     "output_type": "stream",
     "text": [
      ": \"It seems Nellie Ohr was well aware the NSA can intercept and store every communication on the Internet. Did that affe…:pos\n",
      "notice how SO MANY around Trump *somehow* get…:neg\n",
      ": The Mar-a-Lago story reminds us that it's not just that Trump is selling the presidency, it's that he is selling so cheap.…:neg\n",
      ": I feel a little bad noting that Donald Trump personally interviewed Geoffrey Berman for his job every time I tweet about Berm…:neg\n",
      ": Mark Hamill suggests replacing Donald Trump's star on the Hollywood Walk of Fame with Carrie Fisher's. Retweet if you…:neg\n",
      ": These Republicans are connected to the insider trading scandal that just eloded on a Trump-loving congressman http…:neg\n",
      ": WHOA Rep Chris Collins charged w/MULTIPLE fraud, wire fraud &amp; false statements for alleged…:neg\n",
      ": Every Time I Die’s Keith Buckley To Trump Supporters: “My Band Doesn’t Need You. Nobody Does.” http…:neg\n",
      ": Has anyone seen that check from Mexico that was going to pay for the ridiculous wall? More importantly, where are all…:neg\n",
      "A line has been drawn in the sand. You either stand on the side of democracy, freedom, and patriotism, or…:neg\n",
      ": Trump-backed candidates struggle to cross finish line in Ohio, Kansas:pos\n",
      ": Last night’s wins were another example of the power of a endorsement. No one rallies our voters better than Presi…:neg\n",
      ": If Brett Kavanaugh is confirmed to the Supreme Court, he could overturn Roe v. Wade and set women’s rights back decades.…:neg\n",
      ": Trump wants to flat out kill everyone now. He’s allowing the EPA to bring back Asbestos manufacturing in the United Sta…:neg\n",
      ": These Republicans are connected to the insider trading scandal that just eloded on a Trump-loving congressman https:/…:neg\n",
      ": : Federal deficit jumps percent after Trump tax cuts, spending bill: CBO report:neg\n",
      ": Mark Hamill suggests replacing Donald Trump's star on the Hollywood Walk of Fame with Carrie Fisher's. Retweet if you…:neg\n",
      ": Can't argue with math.:neg\n"
     ]
    }
   ],
   "source": [
    "for i in list1:\n",
    "    test_tweet = word_feats(i)\n",
    "    print(i+\":\"+classifier.classify(test_tweet))"
   ]
  },
  {
   "cell_type": "markdown",
   "metadata": {},
   "source": [
    "### MOST INFORMATIVE FEATURES"
   ]
  },
  {
   "cell_type": "code",
   "execution_count": 13,
   "metadata": {},
   "outputs": [
    {
     "name": "stdout",
     "output_type": "stream",
     "text": [
      "Most Informative Features\n",
      "                    miss = True              neg : pos    =     40.6 : 1.0\n",
      "                  Thanks = True              pos : neg    =     31.0 : 1.0\n",
      "                   Thank = True              pos : neg    =     25.8 : 1.0\n",
      "                    MUCH = True              neg : pos    =     25.7 : 1.0\n",
      "                     See = True              pos : neg    =     24.3 : 1.0\n",
      "                     sad = True              neg : pos    =     20.2 : 1.0\n",
      "                    THAT = True              neg : pos    =     16.6 : 1.0\n",
      "               community = True              pos : neg    =     15.0 : 1.0\n",
      "                    sick = True              neg : pos    =     13.7 : 1.0\n",
      "                   great = True              pos : neg    =     13.5 : 1.0\n"
     ]
    }
   ],
   "source": [
    "classifier.show_most_informative_features()"
   ]
  }
 ],
 "metadata": {
  "kernelspec": {
   "display_name": "Python 3",
   "language": "python",
   "name": "python3"
  },
  "language_info": {
   "codemirror_mode": {
    "name": "ipython",
    "version": 3
   },
   "file_extension": ".py",
   "mimetype": "text/x-python",
   "name": "python",
   "nbconvert_exporter": "python",
   "pygments_lexer": "ipython3",
   "version": "3.6.5"
  }
 },
 "nbformat": 4,
 "nbformat_minor": 2
}
